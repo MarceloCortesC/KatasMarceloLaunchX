{
 "cells": [
  {
   "cell_type": "markdown",
   "metadata": {},
   "source": [
    "## Ejercicio 2: Formateando Cadenas"
   ]
  },
  {
   "cell_type": "code",
   "execution_count": 18,
   "metadata": {},
   "outputs": [],
   "source": [
    "name = \"Moon\"\n",
    "gravity = 0.00162\n",
    "planet = \"Mars\""
   ]
  },
  {
   "cell_type": "markdown",
   "metadata": {},
   "source": [
    "Primero, crea un título para el texto. Debido a que este texto trata sobre la gravedad en la Tierra y la Luna, úsalo para crear un título significativo. Utiliza las variables en lugar de escribir.\n",
    "# Creamos el título"
   ]
  },
  {
   "cell_type": "code",
   "execution_count": 19,
   "metadata": {},
   "outputs": [],
   "source": [
    "name = \"Ganímedes\"\n",
    "gravity = 0.00162\n",
    "planet = \"Mars\"\n",
    "\n",
    "titulo = f'datos de la gravedad de la {planet}'\n",
    " "
   ]
  },
  {
   "cell_type": "markdown",
   "metadata": {},
   "source": [
    "Ahora crea una plantilla de cadena multilínea para contener el resto de la información. En lugar de usar kilómetros, debes convertir la distancia a metros multiplicando por 1,000.\n",
    "\n",
    "# Creamos la plantilla"
   ]
  },
  {
   "cell_type": "code",
   "execution_count": 20,
   "metadata": {},
   "outputs": [],
   "source": [
    "name = \"Ganímedes\"\n",
    "gravity = 0.00162\n",
    "planet = \"Mars\"\n",
    "titulo = f'datos de la gravedad de la {planet}'\n",
    "\n",
    "#plantilla\n",
    "Datosplantilla = f\"\"\"Nombre del planeta: {planet}, Gravedad en {name}: {gravity * 1000} m/s2\"\"\"\n",
    "\n",
    "#print(Datosplantilla)"
   ]
  },
  {
   "cell_type": "markdown",
   "metadata": {},
   "source": [
    "Finalmente, usa ambas variables para unir el título y los hechos.\n",
    "\n",
    "# Unión de ambas cadenas"
   ]
  },
  {
   "cell_type": "code",
   "execution_count": 21,
   "metadata": {},
   "outputs": [
    {
     "name": "stdout",
     "output_type": "stream",
     "text": [
      "datos de la gravedad de la Mars\n",
      "Nombre del planeta: Mars\n",
      " Gravedad en Ganímedes: 1.6199999999999999 m/s2\n"
     ]
    }
   ],
   "source": [
    "name = \"Ganímedes\"\n",
    "gravity = 0.00162\n",
    "planet = \"Mars\"\n",
    "titulo = f'datos de la gravedad de la {planet}'\n",
    "\n",
    "#plantilla\n",
    "Datosplantilla = f\"\"\"Nombre del planeta: {planet}\n",
    " Gravedad en {name}: {gravity * 1000} m/s2\"\"\"\n",
    "\n",
    "UnionTH = f\"\"\"{titulo}\n",
    "{Datosplantilla}\"\"\"\n",
    "\n",
    "print(UnionTH)"
   ]
  },
  {
   "cell_type": "markdown",
   "metadata": {},
   "source": [
    "Ahora usa información de una luna diferente para ver si la plantilla todavía funciona.\n",
    "# Comprueba la plantilla\n",
    "# print(nombre_plantilla)"
   ]
  },
  {
   "cell_type": "code",
   "execution_count": null,
   "metadata": {},
   "outputs": [],
   "source": [
    "name = \"Ganímedes\"\n",
    "gravity = 0.00162\n",
    "planet = \"Mars\"\n",
    "titulo = f'datos de la gravedad de la {planet}'\n",
    "\n",
    "#plantilla\n",
    "Datosplantilla = f\"\"\"Nombre del planeta: {planet}\n",
    " Gravedad en {name}: {gravity * 1000} m/s2\"\"\"\n",
    "\n",
    "UnionTH = f\"\"\"{titulo}\n",
    "{Datosplantilla}\"\"\"\n",
    "\n",
    "print(UnionTH)\n",
    "\n",
    "\n",
    "name = \"Ganímedes\"\n",
    "gravity = 0.00143\n",
    "planet = \"Marte\"\n",
    "titulo = f'datos de la gravedad de la {planet}'\n",
    "\n",
    "#plantilla\n",
    "Datosplantilla = f\"\"\"Nombre del planeta: {planet}\n",
    " Gravedad en {name}: {gravity * 1000} m/s2\"\"\"\n",
    "\n",
    "UnionTH = f\"\"\"{titulo}\n",
    "{Datosplantilla}\"\"\"\n",
    "\n",
    "print(UnionTH)\n"
   ]
  },
  {
   "cell_type": "markdown",
   "metadata": {},
   "source": [
    "# Nueva plantilla"
   ]
  },
  {
   "cell_type": "code",
   "execution_count": 27,
   "metadata": {},
   "outputs": [
    {
     "name": "stdout",
     "output_type": "stream",
     "text": [
      "datos de la gravedad de la Mars\n",
      "Nombre del planeta: Mars\n",
      " Gravedad en Ganímedes: 1.6199999999999999 m/s2\n",
      "datos de la gravedad de la Marte\n",
      "Nombre del planeta: Marte\n",
      " Gravedad en Ganímedes: 1.4300000000000002 m/s2\n"
     ]
    }
   ],
   "source": [
    "name = \"Ganímedes\"\n",
    "gravity = 0.00162\n",
    "planet = \"Mars\"\n",
    "titulo = f'datos de la gravedad de la {planet}'\n",
    "\n",
    "#plantilla\n",
    "Datosplantilla = f\"\"\"Nombre del planeta: {planet}\n",
    " Gravedad en {name}: {gravity * 1000} m/s2\"\"\"\n",
    "\n",
    "UnionTH = f\"\"\"{titulo}\n",
    "{Datosplantilla}\"\"\"\n",
    "\n",
    "print(UnionTH)\n",
    "\n",
    "\n",
    "name = \"Ganímedes\"\n",
    "gravity = 0.00143\n",
    "planet = \"Marte\"\n",
    "titulo = f'datos de la gravedad de la {planet}'\n",
    "\n",
    "#plantilla\n",
    "Datosplantilla = f\"\"\"Nombre del planeta: {planet}\n",
    " Gravedad en {name}: {gravity * 1000} m/s2\"\"\"\n",
    "\n",
    "UnionTH = f\"\"\"{titulo}\n",
    "{Datosplantilla}\"\"\"\n",
    "\n",
    "print(UnionTH)\n",
    "\n",
    "NPlantilla = \"\"\"datos de la gravedad de la: {name}\n",
    "Nombre del planeta: {planet}\n",
    "Gravedad en {name}: {gravity} m/s2\n",
    "\"\"\"\n",
    "\n",
    "\n"
   ]
  },
  {
   "cell_type": "markdown",
   "metadata": {},
   "source": [
    "# Pista: print(nueva_plantilla.format(variables))\n"
   ]
  },
  {
   "cell_type": "code",
   "execution_count": 26,
   "metadata": {},
   "outputs": [
    {
     "name": "stdout",
     "output_type": "stream",
     "text": [
      "\n",
      "Datos de Gravedad sobre: Ganímedes\n",
      "-------------------------------------------------------------------------------\n",
      "Nombre del planeta: Marte\n",
      "Gravedad en Ganímedes: 1.4300000000000002 m/s2\n",
      "\n"
     ]
    }
   ],
   "source": [
    "print(NPlantilla.format(name=name, planet=planet, gravity=(gravity*1000)))\n"
   ]
  }
 ],
 "metadata": {
  "interpreter": {
   "hash": "d453fcf5751992a87214f4d5566068ad28623f5200e9cceaa88ec8d680d47a43"
  },
  "kernelspec": {
   "display_name": "Python 3.10.2 64-bit",
   "language": "python",
   "name": "python3"
  },
  "language_info": {
   "codemirror_mode": {
    "name": "ipython",
    "version": 3
   },
   "file_extension": ".py",
   "mimetype": "text/x-python",
   "name": "python",
   "nbconvert_exporter": "python",
   "pygments_lexer": "ipython3",
   "version": "3.10.2"
  },
  "orig_nbformat": 4
 },
 "nbformat": 4,
 "nbformat_minor": 2
}

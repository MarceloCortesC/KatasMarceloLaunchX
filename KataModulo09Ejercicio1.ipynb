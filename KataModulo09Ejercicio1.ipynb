{
 "cells": [
  {
   "cell_type": "markdown",
   "metadata": {},
   "source": [
    "## Ejercicio: Uso de funciones en Python\n",
    "Ejercicio 1: Trabajar con argumentos en funciones\n",
    "\n",
    "Comienza por crear una función que necesite tres lecturas de combustible y devuelva un informe:\n",
    "\n",
    "# Función para leer 3 tanques de combustible y muestre el promedio"
   ]
  },
  {
   "cell_type": "code",
   "execution_count": 3,
   "metadata": {},
   "outputs": [],
   "source": [
    "def Ltanks(tank1, tank2, tank3):\n",
    "    Promedio = (tank1 + tank2 + tank3) / 3\n",
    "    return f\"\"\"Tanque 1: {tank1} , Tanque 2: {tank2}, Tanque 3: {tank3}, promedio:{Promedio}\"\"\""
   ]
  },
  {
   "cell_type": "markdown",
   "metadata": {},
   "source": [
    "# Llamamos a la función que genera el reporte print(funcion(tanque1, tanque2, tanque3))"
   ]
  },
  {
   "cell_type": "code",
   "execution_count": 4,
   "metadata": {},
   "outputs": [
    {
     "name": "stdout",
     "output_type": "stream",
     "text": [
      "Tanque 1: 30 , Tanque 2: 40, Tanque 3: 50, promedio:40.0\n"
     ]
    }
   ],
   "source": [
    "print(Ltanks(30, 40, 50))"
   ]
  },
  {
   "cell_type": "markdown",
   "metadata": {},
   "source": [
    "# Función promedio \n",
    "Ahora actualiza la función de informes para llamando a la nueva función del promedio:\n",
    "\n",
    "# Actualiza la función"
   ]
  },
  {
   "cell_type": "code",
   "execution_count": 6,
   "metadata": {},
   "outputs": [
    {
     "data": {
      "text/plain": [
       "10.0"
      ]
     },
     "execution_count": 6,
     "metadata": {},
     "output_type": "execute_result"
    }
   ],
   "source": [
    "def fpromedio(media):\n",
    "    valormx = sum(media) #suma de valores\n",
    "    elementos = len(media) #no de elementos: cant\n",
    "    fmedia = valormx / elementos\n",
    "    return fmedia \n",
    "\n",
    "fpromedio([5, 10, 15])"
   ]
  },
  {
   "cell_type": "markdown",
   "metadata": {},
   "source": [
    "# Actualiza la función"
   ]
  },
  {
   "cell_type": "code",
   "execution_count": 8,
   "metadata": {},
   "outputs": [
    {
     "name": "stdout",
     "output_type": "stream",
     "text": [
      "Tanque 1: 40 , Tanque 2: 60, Tanque 3: 90, promedio:63.333333333333336\n"
     ]
    }
   ],
   "source": [
    "def Ltanks2(tank1, tank2, tank3):\n",
    "    NPromedio = (tank1 + tank2 + tank3) /3\n",
    "    return f\"\"\"Tanque 1: {tank1} , Tanque 2: {tank2}, Tanque 3: {tank3}, promedio:{NPromedio}\"\"\"\n",
    "\n",
    "print(Ltanks2(40, 60, 90))\n"
   ]
  }
 ],
 "metadata": {
  "interpreter": {
   "hash": "d453fcf5751992a87214f4d5566068ad28623f5200e9cceaa88ec8d680d47a43"
  },
  "kernelspec": {
   "display_name": "Python 3.10.2 64-bit",
   "language": "python",
   "name": "python3"
  },
  "language_info": {
   "codemirror_mode": {
    "name": "ipython",
    "version": 3
   },
   "file_extension": ".py",
   "mimetype": "text/x-python",
   "name": "python",
   "nbconvert_exporter": "python",
   "pygments_lexer": "ipython3",
   "version": "3.10.2"
  },
  "orig_nbformat": 4
 },
 "nbformat": 4,
 "nbformat_minor": 2
}

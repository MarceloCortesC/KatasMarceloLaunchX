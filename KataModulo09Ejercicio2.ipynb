{
 "cells": [
  {
   "cell_type": "markdown",
   "metadata": {},
   "source": [
    "## Ejercicio 2: Trabajo con argumentos de palabra clave\n",
    "Ejercicio : Trabajar con argumentos de palabras clave en funciones\n",
    "\n",
    "# Función con un informe preciso de la misión. Considera hora de prelanzamiento, tiempo de vuelo, destino, tanque 1, tanque 2\n",
    "\n"
   ]
  },
  {
   "cell_type": "code",
   "execution_count": 8,
   "metadata": {},
   "outputs": [
    {
     "name": "stdout",
     "output_type": "stream",
     "text": [
      "tiempo de viaje en minutos: 100, Gasto de los tanques en litros: 460, Destino a: luna\n"
     ]
    }
   ],
   "source": [
    "def informeM(prelanzamiento, tiempoV, Destino, tank1, tank2):\n",
    "    CantTanks = tank1 + tank2\n",
    "    tiempoViaje = prelanzamiento + tiempoV\n",
    "    return f\"\"\"tiempo de viaje en minutos: {tiempoViaje}, Gasto de los tanques en litros: {CantTanks}, Destino a: {Destino}\"\"\" \n",
    "\n",
    "print(informeM(20, 80, 'luna', 120, 340))"
   ]
  },
  {
   "cell_type": "markdown",
   "metadata": {},
   "source": [
    "La función es problemática porque no se puede adaptar para minutos adicionales o tanques adicionales de combustible. Hazlo más flexible permitiendo cualquier número de pasos basados en el tiempo y cualquier número de tanques. En lugar de usar *args y **kwargs, aprovecha el hecho de que puedes usar cualquier nombre que desees. Asegurate que la función sea más legible mediante el uso de nombres de variables que están asociados con las entradas, como *minutes y **fuel_reservoirs:\n",
    "\n",
    "# Escribe tu nueva función de reporte considerando lo anterior"
   ]
  },
  {
   "cell_type": "code",
   "execution_count": 3,
   "metadata": {},
   "outputs": [
    {
     "name": "stdout",
     "output_type": "stream",
     "text": [
      "tiempo de viaje en minutos: 125, Gasto de los tanques en litros: 830, Destino a: luna\n"
     ]
    }
   ],
   "source": [
    "def informeM( destino, *minutes, **fuel_reservoirs):\n",
    "    return f\"\"\"tiempo de viaje en minutos: {sum(minutes)}, Gasto de los tanques en litros: {sum(fuel_reservoirs.values())}, Destino a: {destino}\"\"\" \n",
    "\n",
    "print(informeM(\"luna\", 60, 25, 40, tanque1= 320, tanque2= 510))\n",
    "\n"
   ]
  },
  {
   "cell_type": "markdown",
   "metadata": {},
   "source": [
    "Debido a que el combustible que queda en los tanques es específico de cada tanque, actualiza la función para usar el nombre de cada tanque en el informe:\n",
    "# Escribe tu nueva función"
   ]
  },
  {
   "cell_type": "code",
   "execution_count": 7,
   "metadata": {},
   "outputs": [
    {
     "name": "stdout",
     "output_type": "stream",
     "text": [
      "tiempo de viaje en minutos: 125, Gasto de los tanques en litros: 830, Destino a: luna Tenemos a nuestro tanque1, con 320 litros, Tenemos a nuestro tanque2, con 510 litros,\n"
     ]
    }
   ],
   "source": [
    "def informeM(destino, *minutes, **fuel_reservoirs):\n",
    "    informeNew = f\"\"\"tiempo de viaje en minutos: {sum(minutes)}, Gasto de los tanques en litros: {sum(fuel_reservoirs.values())}, Destino a: {destino}\"\"\" \n",
    "\n",
    "    for tanques, cantidadl in fuel_reservoirs.items():\n",
    "        informeNew += f\" Tenemos a nuestro {tanques}, con {cantidadl} litros,\"\n",
    "    return informeNew\n",
    "\n",
    "print(informeM(\"luna\", 60, 25, 40, tanque1= 320, tanque2=510))"
   ]
  }
 ],
 "metadata": {
  "interpreter": {
   "hash": "d453fcf5751992a87214f4d5566068ad28623f5200e9cceaa88ec8d680d47a43"
  },
  "kernelspec": {
   "display_name": "Python 3.10.2 64-bit",
   "language": "python",
   "name": "python3"
  },
  "language_info": {
   "codemirror_mode": {
    "name": "ipython",
    "version": 3
   },
   "file_extension": ".py",
   "mimetype": "text/x-python",
   "name": "python",
   "nbconvert_exporter": "python",
   "pygments_lexer": "ipython3",
   "version": "3.10.2"
  },
  "orig_nbformat": 4
 },
 "nbformat": 4,
 "nbformat_minor": 2
}
